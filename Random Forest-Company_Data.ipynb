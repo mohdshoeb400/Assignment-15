{
 "cells": [
  {
   "cell_type": "markdown",
   "id": "5218a9b6",
   "metadata": {},
   "source": [
    "# Random Forest on a Company Dataset"
   ]
  },
  {
   "cell_type": "code",
   "execution_count": 1,
   "id": "439cf5db",
   "metadata": {},
   "outputs": [],
   "source": [
    "import pandas as pd\n",
    "import numpy as np\n",
    "from sklearn.ensemble import RandomForestClassifier\n",
    "from sklearn import tree\n",
    "from sklearn.model_selection import cross_val_score\n",
    "from sklearn.model_selection import KFold\n",
    "from sklearn.metrics import classification_report , accuracy_score\n",
    "import matplotlib.pyplot as plt\n",
    "import seaborn as sns\n",
    "from sklearn.preprocessing import LabelEncoder "
   ]
  },
  {
   "cell_type": "code",
   "execution_count": 2,
   "id": "bbb2bc2f",
   "metadata": {},
   "outputs": [],
   "source": [
    "company=pd.read_csv(\"C:\\\\Users\\\\MOHD SHOEB\\\\OneDrive\\\\Desktop\\\\Excelr Assignments\\\\Random Forests\\\\Company_Data.csv\")"
   ]
  },
  {
   "cell_type": "code",
   "execution_count": 3,
   "id": "3e10edd6",
   "metadata": {},
   "outputs": [
    {
     "data": {
      "text/html": [
       "<div>\n",
       "<style scoped>\n",
       "    .dataframe tbody tr th:only-of-type {\n",
       "        vertical-align: middle;\n",
       "    }\n",
       "\n",
       "    .dataframe tbody tr th {\n",
       "        vertical-align: top;\n",
       "    }\n",
       "\n",
       "    .dataframe thead th {\n",
       "        text-align: right;\n",
       "    }\n",
       "</style>\n",
       "<table border=\"1\" class=\"dataframe\">\n",
       "  <thead>\n",
       "    <tr style=\"text-align: right;\">\n",
       "      <th></th>\n",
       "      <th>Sales</th>\n",
       "      <th>CompPrice</th>\n",
       "      <th>Income</th>\n",
       "      <th>Advertising</th>\n",
       "      <th>Population</th>\n",
       "      <th>Price</th>\n",
       "      <th>ShelveLoc</th>\n",
       "      <th>Age</th>\n",
       "      <th>Education</th>\n",
       "      <th>Urban</th>\n",
       "      <th>US</th>\n",
       "    </tr>\n",
       "  </thead>\n",
       "  <tbody>\n",
       "    <tr>\n",
       "      <th>0</th>\n",
       "      <td>9.50</td>\n",
       "      <td>138</td>\n",
       "      <td>73</td>\n",
       "      <td>11</td>\n",
       "      <td>276</td>\n",
       "      <td>120</td>\n",
       "      <td>Bad</td>\n",
       "      <td>42</td>\n",
       "      <td>17</td>\n",
       "      <td>Yes</td>\n",
       "      <td>Yes</td>\n",
       "    </tr>\n",
       "    <tr>\n",
       "      <th>1</th>\n",
       "      <td>11.22</td>\n",
       "      <td>111</td>\n",
       "      <td>48</td>\n",
       "      <td>16</td>\n",
       "      <td>260</td>\n",
       "      <td>83</td>\n",
       "      <td>Good</td>\n",
       "      <td>65</td>\n",
       "      <td>10</td>\n",
       "      <td>Yes</td>\n",
       "      <td>Yes</td>\n",
       "    </tr>\n",
       "    <tr>\n",
       "      <th>2</th>\n",
       "      <td>10.06</td>\n",
       "      <td>113</td>\n",
       "      <td>35</td>\n",
       "      <td>10</td>\n",
       "      <td>269</td>\n",
       "      <td>80</td>\n",
       "      <td>Medium</td>\n",
       "      <td>59</td>\n",
       "      <td>12</td>\n",
       "      <td>Yes</td>\n",
       "      <td>Yes</td>\n",
       "    </tr>\n",
       "    <tr>\n",
       "      <th>3</th>\n",
       "      <td>7.40</td>\n",
       "      <td>117</td>\n",
       "      <td>100</td>\n",
       "      <td>4</td>\n",
       "      <td>466</td>\n",
       "      <td>97</td>\n",
       "      <td>Medium</td>\n",
       "      <td>55</td>\n",
       "      <td>14</td>\n",
       "      <td>Yes</td>\n",
       "      <td>Yes</td>\n",
       "    </tr>\n",
       "    <tr>\n",
       "      <th>4</th>\n",
       "      <td>4.15</td>\n",
       "      <td>141</td>\n",
       "      <td>64</td>\n",
       "      <td>3</td>\n",
       "      <td>340</td>\n",
       "      <td>128</td>\n",
       "      <td>Bad</td>\n",
       "      <td>38</td>\n",
       "      <td>13</td>\n",
       "      <td>Yes</td>\n",
       "      <td>No</td>\n",
       "    </tr>\n",
       "    <tr>\n",
       "      <th>...</th>\n",
       "      <td>...</td>\n",
       "      <td>...</td>\n",
       "      <td>...</td>\n",
       "      <td>...</td>\n",
       "      <td>...</td>\n",
       "      <td>...</td>\n",
       "      <td>...</td>\n",
       "      <td>...</td>\n",
       "      <td>...</td>\n",
       "      <td>...</td>\n",
       "      <td>...</td>\n",
       "    </tr>\n",
       "    <tr>\n",
       "      <th>395</th>\n",
       "      <td>12.57</td>\n",
       "      <td>138</td>\n",
       "      <td>108</td>\n",
       "      <td>17</td>\n",
       "      <td>203</td>\n",
       "      <td>128</td>\n",
       "      <td>Good</td>\n",
       "      <td>33</td>\n",
       "      <td>14</td>\n",
       "      <td>Yes</td>\n",
       "      <td>Yes</td>\n",
       "    </tr>\n",
       "    <tr>\n",
       "      <th>396</th>\n",
       "      <td>6.14</td>\n",
       "      <td>139</td>\n",
       "      <td>23</td>\n",
       "      <td>3</td>\n",
       "      <td>37</td>\n",
       "      <td>120</td>\n",
       "      <td>Medium</td>\n",
       "      <td>55</td>\n",
       "      <td>11</td>\n",
       "      <td>No</td>\n",
       "      <td>Yes</td>\n",
       "    </tr>\n",
       "    <tr>\n",
       "      <th>397</th>\n",
       "      <td>7.41</td>\n",
       "      <td>162</td>\n",
       "      <td>26</td>\n",
       "      <td>12</td>\n",
       "      <td>368</td>\n",
       "      <td>159</td>\n",
       "      <td>Medium</td>\n",
       "      <td>40</td>\n",
       "      <td>18</td>\n",
       "      <td>Yes</td>\n",
       "      <td>Yes</td>\n",
       "    </tr>\n",
       "    <tr>\n",
       "      <th>398</th>\n",
       "      <td>5.94</td>\n",
       "      <td>100</td>\n",
       "      <td>79</td>\n",
       "      <td>7</td>\n",
       "      <td>284</td>\n",
       "      <td>95</td>\n",
       "      <td>Bad</td>\n",
       "      <td>50</td>\n",
       "      <td>12</td>\n",
       "      <td>Yes</td>\n",
       "      <td>Yes</td>\n",
       "    </tr>\n",
       "    <tr>\n",
       "      <th>399</th>\n",
       "      <td>9.71</td>\n",
       "      <td>134</td>\n",
       "      <td>37</td>\n",
       "      <td>0</td>\n",
       "      <td>27</td>\n",
       "      <td>120</td>\n",
       "      <td>Good</td>\n",
       "      <td>49</td>\n",
       "      <td>16</td>\n",
       "      <td>Yes</td>\n",
       "      <td>Yes</td>\n",
       "    </tr>\n",
       "  </tbody>\n",
       "</table>\n",
       "<p>400 rows × 11 columns</p>\n",
       "</div>"
      ],
      "text/plain": [
       "     Sales  CompPrice  Income  Advertising  Population  Price ShelveLoc  Age  \\\n",
       "0     9.50        138      73           11         276    120       Bad   42   \n",
       "1    11.22        111      48           16         260     83      Good   65   \n",
       "2    10.06        113      35           10         269     80    Medium   59   \n",
       "3     7.40        117     100            4         466     97    Medium   55   \n",
       "4     4.15        141      64            3         340    128       Bad   38   \n",
       "..     ...        ...     ...          ...         ...    ...       ...  ...   \n",
       "395  12.57        138     108           17         203    128      Good   33   \n",
       "396   6.14        139      23            3          37    120    Medium   55   \n",
       "397   7.41        162      26           12         368    159    Medium   40   \n",
       "398   5.94        100      79            7         284     95       Bad   50   \n",
       "399   9.71        134      37            0          27    120      Good   49   \n",
       "\n",
       "     Education Urban   US  \n",
       "0           17   Yes  Yes  \n",
       "1           10   Yes  Yes  \n",
       "2           12   Yes  Yes  \n",
       "3           14   Yes  Yes  \n",
       "4           13   Yes   No  \n",
       "..         ...   ...  ...  \n",
       "395         14   Yes  Yes  \n",
       "396         11    No  Yes  \n",
       "397         18   Yes  Yes  \n",
       "398         12   Yes  Yes  \n",
       "399         16   Yes  Yes  \n",
       "\n",
       "[400 rows x 11 columns]"
      ]
     },
     "execution_count": 3,
     "metadata": {},
     "output_type": "execute_result"
    }
   ],
   "source": [
    "company"
   ]
  },
  {
   "cell_type": "code",
   "execution_count": 4,
   "id": "5c9033c6",
   "metadata": {},
   "outputs": [
    {
     "name": "stdout",
     "output_type": "stream",
     "text": [
      "<class 'pandas.core.frame.DataFrame'>\n",
      "RangeIndex: 400 entries, 0 to 399\n",
      "Data columns (total 11 columns):\n",
      " #   Column       Non-Null Count  Dtype  \n",
      "---  ------       --------------  -----  \n",
      " 0   Sales        400 non-null    float64\n",
      " 1   CompPrice    400 non-null    int64  \n",
      " 2   Income       400 non-null    int64  \n",
      " 3   Advertising  400 non-null    int64  \n",
      " 4   Population   400 non-null    int64  \n",
      " 5   Price        400 non-null    int64  \n",
      " 6   ShelveLoc    400 non-null    object \n",
      " 7   Age          400 non-null    int64  \n",
      " 8   Education    400 non-null    int64  \n",
      " 9   Urban        400 non-null    object \n",
      " 10  US           400 non-null    object \n",
      "dtypes: float64(1), int64(7), object(3)\n",
      "memory usage: 34.5+ KB\n"
     ]
    }
   ],
   "source": [
    "company.info()"
   ]
  },
  {
   "cell_type": "code",
   "execution_count": 5,
   "id": "be4016f9",
   "metadata": {},
   "outputs": [
    {
     "data": {
      "text/plain": [
       "count    400.000000\n",
       "mean       7.496325\n",
       "std        2.824115\n",
       "min        0.000000\n",
       "25%        5.390000\n",
       "50%        7.490000\n",
       "75%        9.320000\n",
       "max       16.270000\n",
       "Name: Sales, dtype: float64"
      ]
     },
     "execution_count": 5,
     "metadata": {},
     "output_type": "execute_result"
    }
   ],
   "source": [
    "company.Sales.describe()"
   ]
  },
  {
   "cell_type": "code",
   "execution_count": 6,
   "id": "4d9899e5",
   "metadata": {},
   "outputs": [
    {
     "data": {
      "text/html": [
       "<div>\n",
       "<style scoped>\n",
       "    .dataframe tbody tr th:only-of-type {\n",
       "        vertical-align: middle;\n",
       "    }\n",
       "\n",
       "    .dataframe tbody tr th {\n",
       "        vertical-align: top;\n",
       "    }\n",
       "\n",
       "    .dataframe thead th {\n",
       "        text-align: right;\n",
       "    }\n",
       "</style>\n",
       "<table border=\"1\" class=\"dataframe\">\n",
       "  <thead>\n",
       "    <tr style=\"text-align: right;\">\n",
       "      <th></th>\n",
       "      <th>Sales</th>\n",
       "      <th>CompPrice</th>\n",
       "      <th>Income</th>\n",
       "      <th>Advertising</th>\n",
       "      <th>Population</th>\n",
       "      <th>Price</th>\n",
       "      <th>ShelveLoc</th>\n",
       "      <th>Age</th>\n",
       "      <th>Education</th>\n",
       "      <th>Urban</th>\n",
       "      <th>US</th>\n",
       "    </tr>\n",
       "  </thead>\n",
       "  <tbody>\n",
       "    <tr>\n",
       "      <th>3</th>\n",
       "      <td>0.0</td>\n",
       "      <td>117</td>\n",
       "      <td>100</td>\n",
       "      <td>4</td>\n",
       "      <td>466</td>\n",
       "      <td>97</td>\n",
       "      <td>Medium</td>\n",
       "      <td>55</td>\n",
       "      <td>14</td>\n",
       "      <td>Yes</td>\n",
       "      <td>Yes</td>\n",
       "    </tr>\n",
       "    <tr>\n",
       "      <th>4</th>\n",
       "      <td>0.0</td>\n",
       "      <td>141</td>\n",
       "      <td>64</td>\n",
       "      <td>3</td>\n",
       "      <td>340</td>\n",
       "      <td>128</td>\n",
       "      <td>Bad</td>\n",
       "      <td>38</td>\n",
       "      <td>13</td>\n",
       "      <td>Yes</td>\n",
       "      <td>No</td>\n",
       "    </tr>\n",
       "    <tr>\n",
       "      <th>6</th>\n",
       "      <td>0.0</td>\n",
       "      <td>115</td>\n",
       "      <td>105</td>\n",
       "      <td>0</td>\n",
       "      <td>45</td>\n",
       "      <td>108</td>\n",
       "      <td>Medium</td>\n",
       "      <td>71</td>\n",
       "      <td>15</td>\n",
       "      <td>Yes</td>\n",
       "      <td>No</td>\n",
       "    </tr>\n",
       "    <tr>\n",
       "      <th>8</th>\n",
       "      <td>0.0</td>\n",
       "      <td>132</td>\n",
       "      <td>110</td>\n",
       "      <td>0</td>\n",
       "      <td>108</td>\n",
       "      <td>124</td>\n",
       "      <td>Medium</td>\n",
       "      <td>76</td>\n",
       "      <td>10</td>\n",
       "      <td>No</td>\n",
       "      <td>No</td>\n",
       "    </tr>\n",
       "    <tr>\n",
       "      <th>9</th>\n",
       "      <td>0.0</td>\n",
       "      <td>132</td>\n",
       "      <td>113</td>\n",
       "      <td>0</td>\n",
       "      <td>131</td>\n",
       "      <td>124</td>\n",
       "      <td>Medium</td>\n",
       "      <td>76</td>\n",
       "      <td>17</td>\n",
       "      <td>No</td>\n",
       "      <td>Yes</td>\n",
       "    </tr>\n",
       "    <tr>\n",
       "      <th>...</th>\n",
       "      <td>...</td>\n",
       "      <td>...</td>\n",
       "      <td>...</td>\n",
       "      <td>...</td>\n",
       "      <td>...</td>\n",
       "      <td>...</td>\n",
       "      <td>...</td>\n",
       "      <td>...</td>\n",
       "      <td>...</td>\n",
       "      <td>...</td>\n",
       "      <td>...</td>\n",
       "    </tr>\n",
       "    <tr>\n",
       "      <th>393</th>\n",
       "      <td>0.0</td>\n",
       "      <td>109</td>\n",
       "      <td>51</td>\n",
       "      <td>10</td>\n",
       "      <td>26</td>\n",
       "      <td>120</td>\n",
       "      <td>Medium</td>\n",
       "      <td>30</td>\n",
       "      <td>17</td>\n",
       "      <td>No</td>\n",
       "      <td>Yes</td>\n",
       "    </tr>\n",
       "    <tr>\n",
       "      <th>394</th>\n",
       "      <td>0.0</td>\n",
       "      <td>130</td>\n",
       "      <td>58</td>\n",
       "      <td>19</td>\n",
       "      <td>366</td>\n",
       "      <td>139</td>\n",
       "      <td>Bad</td>\n",
       "      <td>33</td>\n",
       "      <td>16</td>\n",
       "      <td>Yes</td>\n",
       "      <td>Yes</td>\n",
       "    </tr>\n",
       "    <tr>\n",
       "      <th>396</th>\n",
       "      <td>0.0</td>\n",
       "      <td>139</td>\n",
       "      <td>23</td>\n",
       "      <td>3</td>\n",
       "      <td>37</td>\n",
       "      <td>120</td>\n",
       "      <td>Medium</td>\n",
       "      <td>55</td>\n",
       "      <td>11</td>\n",
       "      <td>No</td>\n",
       "      <td>Yes</td>\n",
       "    </tr>\n",
       "    <tr>\n",
       "      <th>397</th>\n",
       "      <td>0.0</td>\n",
       "      <td>162</td>\n",
       "      <td>26</td>\n",
       "      <td>12</td>\n",
       "      <td>368</td>\n",
       "      <td>159</td>\n",
       "      <td>Medium</td>\n",
       "      <td>40</td>\n",
       "      <td>18</td>\n",
       "      <td>Yes</td>\n",
       "      <td>Yes</td>\n",
       "    </tr>\n",
       "    <tr>\n",
       "      <th>398</th>\n",
       "      <td>0.0</td>\n",
       "      <td>100</td>\n",
       "      <td>79</td>\n",
       "      <td>7</td>\n",
       "      <td>284</td>\n",
       "      <td>95</td>\n",
       "      <td>Bad</td>\n",
       "      <td>50</td>\n",
       "      <td>12</td>\n",
       "      <td>Yes</td>\n",
       "      <td>Yes</td>\n",
       "    </tr>\n",
       "  </tbody>\n",
       "</table>\n",
       "<p>201 rows × 11 columns</p>\n",
       "</div>"
      ],
      "text/plain": [
       "     Sales  CompPrice  Income  Advertising  Population  Price ShelveLoc  Age  \\\n",
       "3      0.0        117     100            4         466     97    Medium   55   \n",
       "4      0.0        141      64            3         340    128       Bad   38   \n",
       "6      0.0        115     105            0          45    108    Medium   71   \n",
       "8      0.0        132     110            0         108    124    Medium   76   \n",
       "9      0.0        132     113            0         131    124    Medium   76   \n",
       "..     ...        ...     ...          ...         ...    ...       ...  ...   \n",
       "393    0.0        109      51           10          26    120    Medium   30   \n",
       "394    0.0        130      58           19         366    139       Bad   33   \n",
       "396    0.0        139      23            3          37    120    Medium   55   \n",
       "397    0.0        162      26           12         368    159    Medium   40   \n",
       "398    0.0        100      79            7         284     95       Bad   50   \n",
       "\n",
       "     Education Urban   US  \n",
       "3           14   Yes  Yes  \n",
       "4           13   Yes   No  \n",
       "6           15   Yes   No  \n",
       "8           10    No   No  \n",
       "9           17    No  Yes  \n",
       "..         ...   ...  ...  \n",
       "393         17    No  Yes  \n",
       "394         16   Yes  Yes  \n",
       "396         11    No  Yes  \n",
       "397         18   Yes  Yes  \n",
       "398         12   Yes  Yes  \n",
       "\n",
       "[201 rows x 11 columns]"
      ]
     },
     "execution_count": 6,
     "metadata": {},
     "output_type": "execute_result"
    }
   ],
   "source": [
    "company.loc[company['Sales']<=7.49,'Sales']=0 #here '0' indicates sales were low\n",
    "company[company['Sales']<=7.49]"
   ]
  },
  {
   "cell_type": "code",
   "execution_count": 7,
   "id": "dc38f1f8",
   "metadata": {},
   "outputs": [
    {
     "data": {
      "text/html": [
       "<div>\n",
       "<style scoped>\n",
       "    .dataframe tbody tr th:only-of-type {\n",
       "        vertical-align: middle;\n",
       "    }\n",
       "\n",
       "    .dataframe tbody tr th {\n",
       "        vertical-align: top;\n",
       "    }\n",
       "\n",
       "    .dataframe thead th {\n",
       "        text-align: right;\n",
       "    }\n",
       "</style>\n",
       "<table border=\"1\" class=\"dataframe\">\n",
       "  <thead>\n",
       "    <tr style=\"text-align: right;\">\n",
       "      <th></th>\n",
       "      <th>Sales</th>\n",
       "      <th>CompPrice</th>\n",
       "      <th>Income</th>\n",
       "      <th>Advertising</th>\n",
       "      <th>Population</th>\n",
       "      <th>Price</th>\n",
       "      <th>ShelveLoc</th>\n",
       "      <th>Age</th>\n",
       "      <th>Education</th>\n",
       "      <th>Urban</th>\n",
       "      <th>US</th>\n",
       "    </tr>\n",
       "  </thead>\n",
       "  <tbody>\n",
       "    <tr>\n",
       "      <th>0</th>\n",
       "      <td>1.0</td>\n",
       "      <td>138</td>\n",
       "      <td>73</td>\n",
       "      <td>11</td>\n",
       "      <td>276</td>\n",
       "      <td>120</td>\n",
       "      <td>Bad</td>\n",
       "      <td>42</td>\n",
       "      <td>17</td>\n",
       "      <td>Yes</td>\n",
       "      <td>Yes</td>\n",
       "    </tr>\n",
       "    <tr>\n",
       "      <th>1</th>\n",
       "      <td>1.0</td>\n",
       "      <td>111</td>\n",
       "      <td>48</td>\n",
       "      <td>16</td>\n",
       "      <td>260</td>\n",
       "      <td>83</td>\n",
       "      <td>Good</td>\n",
       "      <td>65</td>\n",
       "      <td>10</td>\n",
       "      <td>Yes</td>\n",
       "      <td>Yes</td>\n",
       "    </tr>\n",
       "    <tr>\n",
       "      <th>2</th>\n",
       "      <td>1.0</td>\n",
       "      <td>113</td>\n",
       "      <td>35</td>\n",
       "      <td>10</td>\n",
       "      <td>269</td>\n",
       "      <td>80</td>\n",
       "      <td>Medium</td>\n",
       "      <td>59</td>\n",
       "      <td>12</td>\n",
       "      <td>Yes</td>\n",
       "      <td>Yes</td>\n",
       "    </tr>\n",
       "    <tr>\n",
       "      <th>3</th>\n",
       "      <td>0.0</td>\n",
       "      <td>117</td>\n",
       "      <td>100</td>\n",
       "      <td>4</td>\n",
       "      <td>466</td>\n",
       "      <td>97</td>\n",
       "      <td>Medium</td>\n",
       "      <td>55</td>\n",
       "      <td>14</td>\n",
       "      <td>Yes</td>\n",
       "      <td>Yes</td>\n",
       "    </tr>\n",
       "    <tr>\n",
       "      <th>4</th>\n",
       "      <td>0.0</td>\n",
       "      <td>141</td>\n",
       "      <td>64</td>\n",
       "      <td>3</td>\n",
       "      <td>340</td>\n",
       "      <td>128</td>\n",
       "      <td>Bad</td>\n",
       "      <td>38</td>\n",
       "      <td>13</td>\n",
       "      <td>Yes</td>\n",
       "      <td>No</td>\n",
       "    </tr>\n",
       "    <tr>\n",
       "      <th>...</th>\n",
       "      <td>...</td>\n",
       "      <td>...</td>\n",
       "      <td>...</td>\n",
       "      <td>...</td>\n",
       "      <td>...</td>\n",
       "      <td>...</td>\n",
       "      <td>...</td>\n",
       "      <td>...</td>\n",
       "      <td>...</td>\n",
       "      <td>...</td>\n",
       "      <td>...</td>\n",
       "    </tr>\n",
       "    <tr>\n",
       "      <th>395</th>\n",
       "      <td>1.0</td>\n",
       "      <td>138</td>\n",
       "      <td>108</td>\n",
       "      <td>17</td>\n",
       "      <td>203</td>\n",
       "      <td>128</td>\n",
       "      <td>Good</td>\n",
       "      <td>33</td>\n",
       "      <td>14</td>\n",
       "      <td>Yes</td>\n",
       "      <td>Yes</td>\n",
       "    </tr>\n",
       "    <tr>\n",
       "      <th>396</th>\n",
       "      <td>0.0</td>\n",
       "      <td>139</td>\n",
       "      <td>23</td>\n",
       "      <td>3</td>\n",
       "      <td>37</td>\n",
       "      <td>120</td>\n",
       "      <td>Medium</td>\n",
       "      <td>55</td>\n",
       "      <td>11</td>\n",
       "      <td>No</td>\n",
       "      <td>Yes</td>\n",
       "    </tr>\n",
       "    <tr>\n",
       "      <th>397</th>\n",
       "      <td>0.0</td>\n",
       "      <td>162</td>\n",
       "      <td>26</td>\n",
       "      <td>12</td>\n",
       "      <td>368</td>\n",
       "      <td>159</td>\n",
       "      <td>Medium</td>\n",
       "      <td>40</td>\n",
       "      <td>18</td>\n",
       "      <td>Yes</td>\n",
       "      <td>Yes</td>\n",
       "    </tr>\n",
       "    <tr>\n",
       "      <th>398</th>\n",
       "      <td>0.0</td>\n",
       "      <td>100</td>\n",
       "      <td>79</td>\n",
       "      <td>7</td>\n",
       "      <td>284</td>\n",
       "      <td>95</td>\n",
       "      <td>Bad</td>\n",
       "      <td>50</td>\n",
       "      <td>12</td>\n",
       "      <td>Yes</td>\n",
       "      <td>Yes</td>\n",
       "    </tr>\n",
       "    <tr>\n",
       "      <th>399</th>\n",
       "      <td>1.0</td>\n",
       "      <td>134</td>\n",
       "      <td>37</td>\n",
       "      <td>0</td>\n",
       "      <td>27</td>\n",
       "      <td>120</td>\n",
       "      <td>Good</td>\n",
       "      <td>49</td>\n",
       "      <td>16</td>\n",
       "      <td>Yes</td>\n",
       "      <td>Yes</td>\n",
       "    </tr>\n",
       "  </tbody>\n",
       "</table>\n",
       "<p>400 rows × 11 columns</p>\n",
       "</div>"
      ],
      "text/plain": [
       "     Sales  CompPrice  Income  Advertising  Population  Price ShelveLoc  Age  \\\n",
       "0      1.0        138      73           11         276    120       Bad   42   \n",
       "1      1.0        111      48           16         260     83      Good   65   \n",
       "2      1.0        113      35           10         269     80    Medium   59   \n",
       "3      0.0        117     100            4         466     97    Medium   55   \n",
       "4      0.0        141      64            3         340    128       Bad   38   \n",
       "..     ...        ...     ...          ...         ...    ...       ...  ...   \n",
       "395    1.0        138     108           17         203    128      Good   33   \n",
       "396    0.0        139      23            3          37    120    Medium   55   \n",
       "397    0.0        162      26           12         368    159    Medium   40   \n",
       "398    0.0        100      79            7         284     95       Bad   50   \n",
       "399    1.0        134      37            0          27    120      Good   49   \n",
       "\n",
       "     Education Urban   US  \n",
       "0           17   Yes  Yes  \n",
       "1           10   Yes  Yes  \n",
       "2           12   Yes  Yes  \n",
       "3           14   Yes  Yes  \n",
       "4           13   Yes   No  \n",
       "..         ...   ...  ...  \n",
       "395         14   Yes  Yes  \n",
       "396         11    No  Yes  \n",
       "397         18   Yes  Yes  \n",
       "398         12   Yes  Yes  \n",
       "399         16   Yes  Yes  \n",
       "\n",
       "[400 rows x 11 columns]"
      ]
     },
     "execution_count": 7,
     "metadata": {},
     "output_type": "execute_result"
    }
   ],
   "source": [
    "company.loc[company['Sales']>7.49,'Sales']=1\n",
    "company"
   ]
  },
  {
   "cell_type": "code",
   "execution_count": 8,
   "id": "70df8b5b",
   "metadata": {},
   "outputs": [
    {
     "data": {
      "text/plain": [
       "array([138, 111, 113, 117, 141, 124, 115, 136, 132, 121, 122, 107, 149,\n",
       "       118, 147, 110, 129, 125, 134, 128, 145, 139,  98, 103, 104, 114,\n",
       "       131, 109, 130, 119, 157,  77, 123,  85, 127, 126, 116,  99, 153,\n",
       "       143, 133,  93, 105, 100,  89, 148, 150,  88, 102, 151,  97, 161,\n",
       "       135, 112,  94, 108,  96, 146, 140, 144, 142, 106, 137, 120, 156,\n",
       "       155, 162,  86, 159,  95, 175, 154, 152], dtype=int64)"
      ]
     },
     "execution_count": 8,
     "metadata": {},
     "output_type": "execute_result"
    }
   ],
   "source": [
    "company.CompPrice.unique()"
   ]
  },
  {
   "cell_type": "code",
   "execution_count": 9,
   "id": "c6a3bc1f",
   "metadata": {},
   "outputs": [],
   "source": [
    "le=LabelEncoder()"
   ]
  },
  {
   "cell_type": "code",
   "execution_count": 10,
   "id": "558ab09a",
   "metadata": {},
   "outputs": [
    {
     "data": {
      "text/html": [
       "<div>\n",
       "<style scoped>\n",
       "    .dataframe tbody tr th:only-of-type {\n",
       "        vertical-align: middle;\n",
       "    }\n",
       "\n",
       "    .dataframe tbody tr th {\n",
       "        vertical-align: top;\n",
       "    }\n",
       "\n",
       "    .dataframe thead th {\n",
       "        text-align: right;\n",
       "    }\n",
       "</style>\n",
       "<table border=\"1\" class=\"dataframe\">\n",
       "  <thead>\n",
       "    <tr style=\"text-align: right;\">\n",
       "      <th></th>\n",
       "      <th>CompPrice</th>\n",
       "      <th>count</th>\n",
       "      <th>percent</th>\n",
       "      <th>cumulative_count</th>\n",
       "      <th>cumulative_percent</th>\n",
       "    </tr>\n",
       "  </thead>\n",
       "  <tbody>\n",
       "    <tr>\n",
       "      <th>0</th>\n",
       "      <td>121</td>\n",
       "      <td>16</td>\n",
       "      <td>4.00</td>\n",
       "      <td>16</td>\n",
       "      <td>4.00</td>\n",
       "    </tr>\n",
       "    <tr>\n",
       "      <th>1</th>\n",
       "      <td>131</td>\n",
       "      <td>14</td>\n",
       "      <td>3.50</td>\n",
       "      <td>30</td>\n",
       "      <td>7.50</td>\n",
       "    </tr>\n",
       "    <tr>\n",
       "      <th>2</th>\n",
       "      <td>122</td>\n",
       "      <td>14</td>\n",
       "      <td>3.50</td>\n",
       "      <td>44</td>\n",
       "      <td>11.00</td>\n",
       "    </tr>\n",
       "    <tr>\n",
       "      <th>3</th>\n",
       "      <td>123</td>\n",
       "      <td>13</td>\n",
       "      <td>3.25</td>\n",
       "      <td>57</td>\n",
       "      <td>14.25</td>\n",
       "    </tr>\n",
       "    <tr>\n",
       "      <th>4</th>\n",
       "      <td>132</td>\n",
       "      <td>12</td>\n",
       "      <td>3.00</td>\n",
       "      <td>69</td>\n",
       "      <td>17.25</td>\n",
       "    </tr>\n",
       "    <tr>\n",
       "      <th>...</th>\n",
       "      <td>...</td>\n",
       "      <td>...</td>\n",
       "      <td>...</td>\n",
       "      <td>...</td>\n",
       "      <td>...</td>\n",
       "    </tr>\n",
       "    <tr>\n",
       "      <th>68</th>\n",
       "      <td>94</td>\n",
       "      <td>1</td>\n",
       "      <td>0.25</td>\n",
       "      <td>396</td>\n",
       "      <td>99.00</td>\n",
       "    </tr>\n",
       "    <tr>\n",
       "      <th>69</th>\n",
       "      <td>88</td>\n",
       "      <td>1</td>\n",
       "      <td>0.25</td>\n",
       "      <td>397</td>\n",
       "      <td>99.25</td>\n",
       "    </tr>\n",
       "    <tr>\n",
       "      <th>70</th>\n",
       "      <td>86</td>\n",
       "      <td>1</td>\n",
       "      <td>0.25</td>\n",
       "      <td>398</td>\n",
       "      <td>99.50</td>\n",
       "    </tr>\n",
       "    <tr>\n",
       "      <th>71</th>\n",
       "      <td>85</td>\n",
       "      <td>1</td>\n",
       "      <td>0.25</td>\n",
       "      <td>399</td>\n",
       "      <td>99.75</td>\n",
       "    </tr>\n",
       "    <tr>\n",
       "      <th>72</th>\n",
       "      <td>77</td>\n",
       "      <td>1</td>\n",
       "      <td>0.25</td>\n",
       "      <td>400</td>\n",
       "      <td>100.00</td>\n",
       "    </tr>\n",
       "  </tbody>\n",
       "</table>\n",
       "<p>73 rows × 5 columns</p>\n",
       "</div>"
      ],
      "text/plain": [
       "    CompPrice  count  percent  cumulative_count  cumulative_percent\n",
       "0         121     16     4.00                16                4.00\n",
       "1         131     14     3.50                30                7.50\n",
       "2         122     14     3.50                44               11.00\n",
       "3         123     13     3.25                57               14.25\n",
       "4         132     12     3.00                69               17.25\n",
       "..        ...    ...      ...               ...                 ...\n",
       "68         94      1     0.25               396               99.00\n",
       "69         88      1     0.25               397               99.25\n",
       "70         86      1     0.25               398               99.50\n",
       "71         85      1     0.25               399               99.75\n",
       "72         77      1     0.25               400              100.00\n",
       "\n",
       "[73 rows x 5 columns]"
      ]
     },
     "execution_count": 10,
     "metadata": {},
     "output_type": "execute_result"
    }
   ],
   "source": [
    "import sidetable #for getting percentage of Valuecounts in a Feature\n",
    "company.stb.freq(['CompPrice'])"
   ]
  },
  {
   "cell_type": "code",
   "execution_count": 11,
   "id": "c112a585",
   "metadata": {},
   "outputs": [],
   "source": [
    "#company.CompPrice=le.fit_transform(company.CompPrice)\n",
    "#company.CompPrice"
   ]
  },
  {
   "cell_type": "code",
   "execution_count": 12,
   "id": "17bd2aaa",
   "metadata": {},
   "outputs": [
    {
     "name": "stderr",
     "output_type": "stream",
     "text": [
      "C:\\Users\\MOHD SHOEB\\anaconda3\\lib\\site-packages\\seaborn\\distributions.py:2619: FutureWarning: `distplot` is a deprecated function and will be removed in a future version. Please adapt your code to use either `displot` (a figure-level function with similar flexibility) or `histplot` (an axes-level function for histograms).\n",
      "  warnings.warn(msg, FutureWarning)\n"
     ]
    },
    {
     "data": {
      "text/plain": [
       "<AxesSubplot:xlabel='CompPrice', ylabel='Density'>"
      ]
     },
     "execution_count": 12,
     "metadata": {},
     "output_type": "execute_result"
    },
    {
     "data": {
      "image/png": "[encoded data removed]",
      "text/plain": [
       "<Figure size 1440x504 with 1 Axes>"
      ]
     },
     "metadata": {
      "needs_background": "light"
     },
     "output_type": "display_data"
    }
   ],
   "source": [
    "plt.figure(figsize=(20,7))\n",
    "sns.distplot(company.CompPrice)"
   ]
  },
  {
   "cell_type": "code",
   "execution_count": 13,
   "id": "4b84c35d",
   "metadata": {},
   "outputs": [
    {
     "data": {
      "text/plain": [
       "array([ 73,  48,  35, 100,  64, 113, 105,  81, 110,  78,  94,  28, 117,\n",
       "        95,  32,  74,  76,  90,  29,  46,  31, 119, 115, 118,  99,  58,\n",
       "        38,  54,  84,  41,  60,  98,  53,  69,  42,  79,  63,  52,  93,\n",
       "        40, 103,  82,  91,  71, 102,  45,  88,  67,  26,  92,  61,  59,\n",
       "        51,  68, 111,  87,  72,  83,  36,  25,  66,  22,  30,  97,  77,\n",
       "        47,  96,  33, 107,  65,  62,  75,  89, 120,  34,  21,  39, 106,\n",
       "        24, 112,  37,  70,  80,  44, 104,  43,  56, 114,  57,  86,  50,\n",
       "        27, 101, 109,  55, 116, 108,  23], dtype=int64)"
      ]
     },
     "execution_count": 13,
     "metadata": {},
     "output_type": "execute_result"
    }
   ],
   "source": [
    "company.Income.unique()"
   ]
  },
  {
   "cell_type": "code",
   "execution_count": 14,
   "id": "261f8a8b",
   "metadata": {},
   "outputs": [
    {
     "data": {
      "text/html": [
       "<div>\n",
       "<style scoped>\n",
       "    .dataframe tbody tr th:only-of-type {\n",
       "        vertical-align: middle;\n",
       "    }\n",
       "\n",
       "    .dataframe tbody tr th {\n",
       "        vertical-align: top;\n",
       "    }\n",
       "\n",
       "    .dataframe thead th {\n",
       "        text-align: right;\n",
       "    }\n",
       "</style>\n",
       "<table border=\"1\" class=\"dataframe\">\n",
       "  <thead>\n",
       "    <tr style=\"text-align: right;\">\n",
       "      <th></th>\n",
       "      <th>Income</th>\n",
       "      <th>count</th>\n",
       "      <th>percent</th>\n",
       "      <th>cumulative_count</th>\n",
       "      <th>cumulative_percent</th>\n",
       "    </tr>\n",
       "  </thead>\n",
       "  <tbody>\n",
       "    <tr>\n",
       "      <th>0</th>\n",
       "      <td>69</td>\n",
       "      <td>11</td>\n",
       "      <td>2.75</td>\n",
       "      <td>11</td>\n",
       "      <td>2.75</td>\n",
       "    </tr>\n",
       "    <tr>\n",
       "      <th>1</th>\n",
       "      <td>42</td>\n",
       "      <td>10</td>\n",
       "      <td>2.50</td>\n",
       "      <td>21</td>\n",
       "      <td>5.25</td>\n",
       "    </tr>\n",
       "    <tr>\n",
       "      <th>2</th>\n",
       "      <td>100</td>\n",
       "      <td>8</td>\n",
       "      <td>2.00</td>\n",
       "      <td>29</td>\n",
       "      <td>7.25</td>\n",
       "    </tr>\n",
       "    <tr>\n",
       "      <th>3</th>\n",
       "      <td>32</td>\n",
       "      <td>8</td>\n",
       "      <td>2.00</td>\n",
       "      <td>37</td>\n",
       "      <td>9.25</td>\n",
       "    </tr>\n",
       "    <tr>\n",
       "      <th>4</th>\n",
       "      <td>93</td>\n",
       "      <td>7</td>\n",
       "      <td>1.75</td>\n",
       "      <td>44</td>\n",
       "      <td>11.00</td>\n",
       "    </tr>\n",
       "    <tr>\n",
       "      <th>...</th>\n",
       "      <td>...</td>\n",
       "      <td>...</td>\n",
       "      <td>...</td>\n",
       "      <td>...</td>\n",
       "      <td>...</td>\n",
       "    </tr>\n",
       "    <tr>\n",
       "      <th>93</th>\n",
       "      <td>95</td>\n",
       "      <td>1</td>\n",
       "      <td>0.25</td>\n",
       "      <td>396</td>\n",
       "      <td>99.00</td>\n",
       "    </tr>\n",
       "    <tr>\n",
       "      <th>94</th>\n",
       "      <td>55</td>\n",
       "      <td>1</td>\n",
       "      <td>0.25</td>\n",
       "      <td>397</td>\n",
       "      <td>99.25</td>\n",
       "    </tr>\n",
       "    <tr>\n",
       "      <th>95</th>\n",
       "      <td>43</td>\n",
       "      <td>1</td>\n",
       "      <td>0.25</td>\n",
       "      <td>398</td>\n",
       "      <td>99.50</td>\n",
       "    </tr>\n",
       "    <tr>\n",
       "      <th>96</th>\n",
       "      <td>27</td>\n",
       "      <td>1</td>\n",
       "      <td>0.25</td>\n",
       "      <td>399</td>\n",
       "      <td>99.75</td>\n",
       "    </tr>\n",
       "    <tr>\n",
       "      <th>97</th>\n",
       "      <td>23</td>\n",
       "      <td>1</td>\n",
       "      <td>0.25</td>\n",
       "      <td>400</td>\n",
       "      <td>100.00</td>\n",
       "    </tr>\n",
       "  </tbody>\n",
       "</table>\n",
       "<p>98 rows × 5 columns</p>\n",
       "</div>"
      ],
      "text/plain": [
       "    Income  count  percent  cumulative_count  cumulative_percent\n",
       "0       69     11     2.75                11                2.75\n",
       "1       42     10     2.50                21                5.25\n",
       "2      100      8     2.00                29                7.25\n",
       "3       32      8     2.00                37                9.25\n",
       "4       93      7     1.75                44               11.00\n",
       "..     ...    ...      ...               ...                 ...\n",
       "93      95      1     0.25               396               99.00\n",
       "94      55      1     0.25               397               99.25\n",
       "95      43      1     0.25               398               99.50\n",
       "96      27      1     0.25               399               99.75\n",
       "97      23      1     0.25               400              100.00\n",
       "\n",
       "[98 rows x 5 columns]"
      ]
     },
     "execution_count": 14,
     "metadata": {},
     "output_type": "execute_result"
    }
   ],
   "source": [
    "company.stb.freq(['Income'])"
   ]
  },
  {
   "cell_type": "code",
   "execution_count": 15,
   "id": "e6f13a65",
   "metadata": {},
   "outputs": [
    {
     "name": "stderr",
     "output_type": "stream",
     "text": [
      "C:\\Users\\MOHD SHOEB\\anaconda3\\lib\\site-packages\\seaborn\\distributions.py:2619: FutureWarning: `distplot` is a deprecated function and will be removed in a future version. Please adapt your code to use either `displot` (a figure-level function with similar flexibility) or `histplot` (an axes-level function for histograms).\n",
      "  warnings.warn(msg, FutureWarning)\n"
     ]
    },
    {
     "data": {
      "text/plain": [
       "<AxesSubplot:xlabel='Income', ylabel='Density'>"
      ]
     },
     "execution_count": 15,
     "metadata": {},
     "output_type": "execute_result"
    },
    {
     "data": {
      "image/png": "[encoded data removed]",
      "text/plain": [
       "<Figure size 1728x504 with 1 Axes>"
      ]
     },
     "metadata": {
      "needs_background": "light"
     },
     "output_type": "display_data"
    }
   ],
   "source": [
    "plt.figure(figsize=(24,7))\n",
    "sns.distplot(company.Income)"
   ]
  },
  {
   "cell_type": "code",
   "execution_count": 16,
   "id": "87218f1a",
   "metadata": {},
   "outputs": [
    {
     "data": {
      "text/plain": [
       "array([11, 16, 10,  4,  3, 13,  0, 15,  9,  2,  5, 12,  6, 14, 18, 19, 20,\n",
       "       23,  1,  7, 24,  8, 17, 25, 26, 29, 22, 21], dtype=int64)"
      ]
     },
     "execution_count": 16,
     "metadata": {},
     "output_type": "execute_result"
    }
   ],
   "source": [
    "company.Advertising.unique()"
   ]
  },
  {
   "cell_type": "code",
   "execution_count": 17,
   "id": "4ec611c2",
   "metadata": {},
   "outputs": [
    {
     "name": "stderr",
     "output_type": "stream",
     "text": [
      "C:\\Users\\MOHD SHOEB\\anaconda3\\lib\\site-packages\\seaborn\\distributions.py:2619: FutureWarning: `distplot` is a deprecated function and will be removed in a future version. Please adapt your code to use either `displot` (a figure-level function with similar flexibility) or `histplot` (an axes-level function for histograms).\n",
      "  warnings.warn(msg, FutureWarning)\n"
     ]
    },
    {
     "data": {
      "text/plain": [
       "<AxesSubplot:xlabel='Advertising', ylabel='Density'>"
      ]
     },
     "execution_count": 17,
     "metadata": {},
     "output_type": "execute_result"
    },
    {
     "data": {
      "image/png": "[encoded data removed]",
      "text/plain": [
       "<Figure size 1440x504 with 1 Axes>"
      ]
     },
     "metadata": {
      "needs_background": "light"
     },
     "output_type": "display_data"
    }
   ],
   "source": [
    "plt.figure(figsize=(20,7))\n",
    "sns.distplot(company.Advertising)"
   ]
  },
  {
   "cell_type": "code",
   "execution_count": 18,
   "id": "d88ce2b9",
   "metadata": {},
   "outputs": [
    {
     "data": {
      "text/plain": [
       "array([276, 260, 269, 466, 340, 501,  45, 425, 108, 131, 150, 503, 393,\n",
       "        29, 148, 400, 284, 251, 408,  58, 367, 239, 497, 292, 294, 176,\n",
       "       496,  19, 359, 226, 447, 241, 236, 317, 406, 270, 412, 454, 144,\n",
       "        18, 403,  25,  16, 325, 168, 173, 349,  51, 341, 112,  39,  60,\n",
       "        54,  22, 188, 469, 358, 146, 170, 184, 197, 508, 152, 366, 339,\n",
       "       237, 432, 125, 480, 346,  44, 139, 286, 353, 468,  52, 304, 272,\n",
       "       493, 491, 267,  97,  67, 134, 407, 287, 382, 220,  94,  89,  57,\n",
       "       334, 472, 398, 217, 104, 488, 298, 335,  17,  95, 202, 507, 243,\n",
       "       137, 249, 380, 181, 192, 350, 279, 208, 232, 265, 327, 384,  10,\n",
       "       436, 371, 310, 277, 331, 300,  36, 264,  27, 402, 140, 289,  59,\n",
       "       189, 372, 486,  81, 424,  40, 100, 151, 216, 492, 356, 416, 123,\n",
       "       207,  38,  70, 434,  79, 230, 426,  35, 449,  93, 142, 509, 297,\n",
       "        71, 481, 420, 410, 333, 500, 413, 132, 326, 357, 445,  48, 156,\n",
       "       262, 178, 464, 245,  68, 381, 404, 119,  24, 218, 361, 499, 200,\n",
       "       149, 362, 160, 199,  87, 391, 266,  12,  86, 435, 288, 198, 477,\n",
       "       467, 324, 343, 473,  66, 438, 504,  14, 244, 210, 296, 129, 376,\n",
       "       303,  80, 414, 261, 429,  74, 448, 106, 322, 126, 502, 312, 158,\n",
       "       388, 290, 394,  85,  13,  33, 419, 328, 337, 369, 456, 459, 171,\n",
       "       428, 133, 316,  65, 433, 213, 354, 489, 283, 164, 219, 105, 268,\n",
       "       422, 161, 458, 430, 306, 111, 396, 183,  26, 377, 122, 256, 348,\n",
       "       463, 191,  90, 206, 319, 263, 315,  76, 455, 238,  61,  49, 203,\n",
       "        37, 368], dtype=int64)"
      ]
     },
     "execution_count": 18,
     "metadata": {},
     "output_type": "execute_result"
    }
   ],
   "source": [
    "company.Population.unique()"
   ]
  },
  {
   "cell_type": "code",
   "execution_count": 19,
   "id": "64d51d20",
   "metadata": {},
   "outputs": [
    {
     "name": "stderr",
     "output_type": "stream",
     "text": [
      "C:\\Users\\MOHD SHOEB\\anaconda3\\lib\\site-packages\\seaborn\\distributions.py:2619: FutureWarning: `distplot` is a deprecated function and will be removed in a future version. Please adapt your code to use either `displot` (a figure-level function with similar flexibility) or `histplot` (an axes-level function for histograms).\n",
      "  warnings.warn(msg, FutureWarning)\n"
     ]
    },
    {
     "data": {
      "text/plain": [
       "<AxesSubplot:xlabel='Population', ylabel='Density'>"
      ]
     },
     "execution_count": 19,
     "metadata": {},
     "output_type": "execute_result"
    },
    {
     "data": {
      "image/png": "[encoded data removed]",
      "text/plain": [
       "<Figure size 1440x504 with 1 Axes>"
      ]
     },
     "metadata": {
      "needs_background": "light"
     },
     "output_type": "display_data"
    }
   ],
   "source": [
    "plt.figure(figsize=(20,7))\n",
    "sns.distplot(company.Population)"
   ]
  },
  {
   "cell_type": "code",
   "execution_count": 20,
   "id": "670c7052",
   "metadata": {},
   "outputs": [
    {
     "data": {
      "text/plain": [
       "array([120,  83,  80,  97, 128,  72, 108, 124, 100,  94, 136,  86, 118,\n",
       "       144, 110, 131,  68, 121, 109, 138, 113,  82, 107, 102,  89, 137,\n",
       "        96, 126,  24, 134,  95, 135,  70,  98, 149, 129, 119, 154,  84,\n",
       "       117, 103, 114, 123, 133, 101, 104,  91, 115,  99, 150, 116,  92,\n",
       "       145,  90,  79, 139, 112, 111, 125, 148, 132, 127, 106, 151,  87,\n",
       "       155,  49, 147,  77, 159,  69, 157, 160, 141, 191,  93,  55, 185,\n",
       "       122,  81, 140, 173, 146, 130,  64, 105, 163,  88, 156, 166,  63,\n",
       "       158,  74,  54, 171, 152, 143, 164, 162,  53,  78], dtype=int64)"
      ]
     },
     "execution_count": 20,
     "metadata": {},
     "output_type": "execute_result"
    }
   ],
   "source": [
    "company.Price.unique()"
   ]
  },
  {
   "cell_type": "code",
   "execution_count": 21,
   "id": "f95da883",
   "metadata": {},
   "outputs": [
    {
     "name": "stderr",
     "output_type": "stream",
     "text": [
      "C:\\Users\\MOHD SHOEB\\anaconda3\\lib\\site-packages\\seaborn\\distributions.py:2619: FutureWarning: `distplot` is a deprecated function and will be removed in a future version. Please adapt your code to use either `displot` (a figure-level function with similar flexibility) or `histplot` (an axes-level function for histograms).\n",
      "  warnings.warn(msg, FutureWarning)\n"
     ]
    },
    {
     "data": {
      "text/plain": [
       "<AxesSubplot:xlabel='Price', ylabel='Density'>"
      ]
     },
     "execution_count": 21,
     "metadata": {},
     "output_type": "execute_result"
    },
    {
     "data": {
      "image/png": "[encoded data removed]",
      "text/plain": [
       "<Figure size 1800x504 with 1 Axes>"
      ]
     },
     "metadata": {
      "needs_background": "light"
     },
     "output_type": "display_data"
    }
   ],
   "source": [
    "plt.figure(figsize=(25,7))\n",
    "sns.distplot(company.Price)"
   ]
  },
  {
   "cell_type": "code",
   "execution_count": 22,
   "id": "28220e2b",
   "metadata": {},
   "outputs": [
    {
     "data": {
      "text/plain": [
       "array(['Bad', 'Good', 'Medium'], dtype=object)"
      ]
     },
     "execution_count": 22,
     "metadata": {},
     "output_type": "execute_result"
    }
   ],
   "source": [
    "company.ShelveLoc.unique()"
   ]
  },
  {
   "cell_type": "code",
   "execution_count": 23,
   "id": "26a0c8fb",
   "metadata": {},
   "outputs": [],
   "source": [
    "company.ShelveLoc=le.fit_transform(company.ShelveLoc)"
   ]
  },
  {
   "cell_type": "code",
   "execution_count": 24,
   "id": "fced8ecf",
   "metadata": {},
   "outputs": [
    {
     "name": "stderr",
     "output_type": "stream",
     "text": [
      "C:\\Users\\MOHD SHOEB\\anaconda3\\lib\\site-packages\\seaborn\\distributions.py:2619: FutureWarning: `distplot` is a deprecated function and will be removed in a future version. Please adapt your code to use either `displot` (a figure-level function with similar flexibility) or `histplot` (an axes-level function for histograms).\n",
      "  warnings.warn(msg, FutureWarning)\n"
     ]
    },
    {
     "data": {
      "text/plain": [
       "<AxesSubplot:xlabel='ShelveLoc', ylabel='Density'>"
      ]
     },
     "execution_count": 24,
     "metadata": {},
     "output_type": "execute_result"
    },
    {
     "data": {
      "image/png": "[encoded data removed]",
      "text/plain": [
       "<Figure size 1440x504 with 1 Axes>"
      ]
     },
     "metadata": {
      "needs_background": "light"
     },
     "output_type": "display_data"
    }
   ],
   "source": [
    "plt.figure(figsize=(20,7))\n",
    "sns.distplot(company.ShelveLoc)"
   ]
  },
  {
   "cell_type": "code",
   "execution_count": 25,
   "id": "9cddc586",
   "metadata": {},
   "outputs": [
    {
     "data": {
      "text/plain": [
       "array([42, 65, 59, 55, 38, 78, 71, 67, 76, 26, 50, 62, 53, 52, 63, 46, 69,\n",
       "       35, 79, 54, 64, 58, 30, 44, 60, 73, 48, 32, 80, 75, 39, 61, 74, 29,\n",
       "       77, 56, 47, 25, 31, 36, 41, 68, 70, 28, 43, 49, 45, 33, 34, 51, 40,\n",
       "       72, 57, 27, 66, 37], dtype=int64)"
      ]
     },
     "execution_count": 25,
     "metadata": {},
     "output_type": "execute_result"
    }
   ],
   "source": [
    "company.Age.unique()"
   ]
  },
  {
   "cell_type": "code",
   "execution_count": 26,
   "id": "96cb3101",
   "metadata": {},
   "outputs": [
    {
     "name": "stderr",
     "output_type": "stream",
     "text": [
      "C:\\Users\\MOHD SHOEB\\anaconda3\\lib\\site-packages\\seaborn\\distributions.py:2619: FutureWarning: `distplot` is a deprecated function and will be removed in a future version. Please adapt your code to use either `displot` (a figure-level function with similar flexibility) or `histplot` (an axes-level function for histograms).\n",
      "  warnings.warn(msg, FutureWarning)\n"
     ]
    },
    {
     "data": {
      "text/plain": [
       "<AxesSubplot:xlabel='Age', ylabel='Density'>"
      ]
     },
     "execution_count": 26,
     "metadata": {},
     "output_type": "execute_result"
    },
    {
     "data": {
      "image/png": "[encoded data removed]",
      "text/plain": [
       "<Figure size 1440x504 with 1 Axes>"
      ]
     },
     "metadata": {
      "needs_background": "light"
     },
     "output_type": "display_data"
    }
   ],
   "source": [
    "plt.figure(figsize=(20,7))\n",
    "sns.distplot(company.Age)"
   ]
  },
  {
   "cell_type": "code",
   "execution_count": 27,
   "id": "fa9b6be3",
   "metadata": {},
   "outputs": [
    {
     "data": {
      "text/plain": [
       "array([17, 10, 12, 14, 13, 16, 15, 18, 11], dtype=int64)"
      ]
     },
     "execution_count": 27,
     "metadata": {},
     "output_type": "execute_result"
    }
   ],
   "source": [
    "company.Education.unique()"
   ]
  },
  {
   "cell_type": "code",
   "execution_count": 28,
   "id": "dc5c397d",
   "metadata": {},
   "outputs": [
    {
     "name": "stderr",
     "output_type": "stream",
     "text": [
      "C:\\Users\\MOHD SHOEB\\anaconda3\\lib\\site-packages\\seaborn\\distributions.py:2619: FutureWarning: `distplot` is a deprecated function and will be removed in a future version. Please adapt your code to use either `displot` (a figure-level function with similar flexibility) or `histplot` (an axes-level function for histograms).\n",
      "  warnings.warn(msg, FutureWarning)\n"
     ]
    },
    {
     "data": {
      "text/plain": [
       "<AxesSubplot:xlabel='Education', ylabel='Density'>"
      ]
     },
     "execution_count": 28,
     "metadata": {},
     "output_type": "execute_result"
    },
    {
     "data": {
      "image/png": "[encoded data removed]",
      "text/plain": [
       "<Figure size 1440x504 with 1 Axes>"
      ]
     },
     "metadata": {
      "needs_background": "light"
     },
     "output_type": "display_data"
    }
   ],
   "source": [
    "plt.figure(figsize=(20,7))\n",
    "sns.distplot(company.Education)"
   ]
  },
  {
   "cell_type": "code",
   "execution_count": 29,
   "id": "b47e38ff",
   "metadata": {},
   "outputs": [
    {
     "data": {
      "text/plain": [
       "array(['Yes', 'No'], dtype=object)"
      ]
     },
     "execution_count": 29,
     "metadata": {},
     "output_type": "execute_result"
    }
   ],
   "source": [
    "company.Urban.unique()"
   ]
  },
  {
   "cell_type": "code",
   "execution_count": 30,
   "id": "d6b772d8",
   "metadata": {},
   "outputs": [],
   "source": [
    "company.Urban=le.fit_transform(company.Urban)"
   ]
  },
  {
   "cell_type": "code",
   "execution_count": 31,
   "id": "8342afd6",
   "metadata": {},
   "outputs": [
    {
     "name": "stderr",
     "output_type": "stream",
     "text": [
      "C:\\Users\\MOHD SHOEB\\anaconda3\\lib\\site-packages\\seaborn\\distributions.py:2619: FutureWarning: `distplot` is a deprecated function and will be removed in a future version. Please adapt your code to use either `displot` (a figure-level function with similar flexibility) or `histplot` (an axes-level function for histograms).\n",
      "  warnings.warn(msg, FutureWarning)\n"
     ]
    },
    {
     "data": {
      "text/plain": [
       "<AxesSubplot:xlabel='Urban', ylabel='Density'>"
      ]
     },
     "execution_count": 31,
     "metadata": {},
     "output_type": "execute_result"
    },
    {
     "data": {
      "image/png": "[encoded data removed]",
      "text/plain": [
       "<Figure size 432x288 with 1 Axes>"
      ]
     },
     "metadata": {
      "needs_background": "light"
     },
     "output_type": "display_data"
    }
   ],
   "source": [
    "sns.distplot(company.Urban)"
   ]
  },
  {
   "cell_type": "code",
   "execution_count": 32,
   "id": "5974b409",
   "metadata": {},
   "outputs": [
    {
     "data": {
      "text/plain": [
       "array(['Yes', 'No'], dtype=object)"
      ]
     },
     "execution_count": 32,
     "metadata": {},
     "output_type": "execute_result"
    }
   ],
   "source": [
    "company.US.unique()"
   ]
  },
  {
   "cell_type": "code",
   "execution_count": 33,
   "id": "8ce3d138",
   "metadata": {},
   "outputs": [],
   "source": [
    "company.US=le.fit_transform(company.US)"
   ]
  },
  {
   "cell_type": "code",
   "execution_count": 34,
   "id": "d73d5d55",
   "metadata": {},
   "outputs": [
    {
     "name": "stderr",
     "output_type": "stream",
     "text": [
      "C:\\Users\\MOHD SHOEB\\anaconda3\\lib\\site-packages\\seaborn\\distributions.py:2619: FutureWarning: `distplot` is a deprecated function and will be removed in a future version. Please adapt your code to use either `displot` (a figure-level function with similar flexibility) or `histplot` (an axes-level function for histograms).\n",
      "  warnings.warn(msg, FutureWarning)\n"
     ]
    },
    {
     "data": {
      "text/plain": [
       "<AxesSubplot:xlabel='US', ylabel='Density'>"
      ]
     },
     "execution_count": 34,
     "metadata": {},
     "output_type": "execute_result"
    },
    {
     "data": {
      "image/png": "[encoded data removed]",
      "text/plain": [
       "<Figure size 432x288 with 1 Axes>"
      ]
     },
     "metadata": {
      "needs_background": "light"
     },
     "output_type": "display_data"
    }
   ],
   "source": [
    "sns.distplot(company.US)"
   ]
  },
  {
   "cell_type": "code",
   "execution_count": 35,
   "id": "1a963a08",
   "metadata": {},
   "outputs": [
    {
     "data": {
      "text/plain": [
       "<AxesSubplot:xlabel='Sales', ylabel='Count'>"
      ]
     },
     "execution_count": 35,
     "metadata": {},
     "output_type": "execute_result"
    },
    {
     "data": {
      "image/png": "[encoded data removed]",
      "text/plain": [
       "<Figure size 432x288 with 1 Axes>"
      ]
     },
     "metadata": {
      "needs_background": "light"
     },
     "output_type": "display_data"
    }
   ],
   "source": [
    "sns.histplot(company.Sales) #We Have Balanced Dataset "
   ]
  },
  {
   "cell_type": "code",
   "execution_count": 36,
   "id": "125e3e6f",
   "metadata": {},
   "outputs": [],
   "source": [
    "#pip install sidetable  "
   ]
  },
  {
   "cell_type": "code",
   "execution_count": 37,
   "id": "f7f8b0fb",
   "metadata": {},
   "outputs": [],
   "source": [
    "X=company.iloc[:,1:]\n",
    "Y=company.iloc[:,:1]\n"
   ]
  },
  {
   "cell_type": "code",
   "execution_count": 38,
   "id": "8d818e2e",
   "metadata": {},
   "outputs": [
    {
     "name": "stderr",
     "output_type": "stream",
     "text": [
      "C:\\Users\\MOHD SHOEB\\anaconda3\\lib\\site-packages\\sklearn\\model_selection\\_validation.py:680: DataConversionWarning: A column-vector y was passed when a 1d array was expected. Please change the shape of y to (n_samples,), for example using ravel().\n",
      "  estimator.fit(X_train, y_train, **fit_params)\n",
      "C:\\Users\\MOHD SHOEB\\anaconda3\\lib\\site-packages\\sklearn\\model_selection\\_validation.py:680: DataConversionWarning: A column-vector y was passed when a 1d array was expected. Please change the shape of y to (n_samples,), for example using ravel().\n",
      "  estimator.fit(X_train, y_train, **fit_params)\n",
      "C:\\Users\\MOHD SHOEB\\anaconda3\\lib\\site-packages\\sklearn\\model_selection\\_validation.py:680: DataConversionWarning: A column-vector y was passed when a 1d array was expected. Please change the shape of y to (n_samples,), for example using ravel().\n",
      "  estimator.fit(X_train, y_train, **fit_params)\n",
      "C:\\Users\\MOHD SHOEB\\anaconda3\\lib\\site-packages\\sklearn\\model_selection\\_validation.py:680: DataConversionWarning: A column-vector y was passed when a 1d array was expected. Please change the shape of y to (n_samples,), for example using ravel().\n",
      "  estimator.fit(X_train, y_train, **fit_params)\n",
      "C:\\Users\\MOHD SHOEB\\anaconda3\\lib\\site-packages\\sklearn\\model_selection\\_validation.py:680: DataConversionWarning: A column-vector y was passed when a 1d array was expected. Please change the shape of y to (n_samples,), for example using ravel().\n",
      "  estimator.fit(X_train, y_train, **fit_params)\n"
     ]
    },
    {
     "name": "stdout",
     "output_type": "stream",
     "text": [
      "Accuracy= 0.795\n"
     ]
    }
   ],
   "source": [
    "num_tree=300\n",
    "max_features=3\n",
    "kfold=KFold(n_splits=10,random_state=None)\n",
    "model=RandomForestClassifier(n_estimators=num_tree,max_features=max_features)\n",
    "results=cross_val_score(model,X,Y)\n",
    "print(\"Accuracy=\",results.mean())"
   ]
  },
  {
   "cell_type": "code",
   "execution_count": 39,
   "id": "e9ac4a74",
   "metadata": {},
   "outputs": [],
   "source": [
    "from sklearn.model_selection import train_test_split\n",
    "x_train,x_test,y_train,y_test=train_test_split(X,Y,test_size=0.3,random_state=20)"
   ]
  },
  {
   "cell_type": "code",
   "execution_count": 40,
   "id": "523b78be",
   "metadata": {},
   "outputs": [],
   "source": [
    "from yellowbrick import ClassBalance\n",
    "from yellowbrick.classifier import ClassificationReport, ConfusionMatrix , ROCAUC , ClassPredictionError\n",
    "\n",
    "classes=['low','high'] #Sales are High or Low"
   ]
  },
  {
   "cell_type": "code",
   "execution_count": 41,
   "id": "1ea88ca7",
   "metadata": {},
   "outputs": [
    {
     "name": "stderr",
     "output_type": "stream",
     "text": [
      "C:\\Users\\MOHD SHOEB\\anaconda3\\lib\\site-packages\\yellowbrick\\base.py:390: DataConversionWarning: A column-vector y was passed when a 1d array was expected. Please change the shape of y to (n_samples,), for example using ravel().\n",
      "  self.estimator.fit(X, y, **kwargs)\n"
     ]
    },
    {
     "data": {
      "image/png": "[encoded data removed]",
      "text/plain": [
       "<Figure size 576x396 with 2 Axes>"
      ]
     },
     "metadata": {},
     "output_type": "display_data"
    },
    {
     "data": {
      "text/plain": [
       "<AxesSubplot:title={'center':'RandomForestClassifier Classification Report'}>"
      ]
     },
     "execution_count": 41,
     "metadata": {},
     "output_type": "execute_result"
    }
   ],
   "source": [
    "#Classification_Report \n",
    "cr_visualizer= ClassificationReport(model,classes=classes,support=True)\n",
    "cr_visualizer.fit(x_train,y_train)\n",
    "cr_visualizer.score(x_test,y_test)\n",
    "cr_visualizer.show()"
   ]
  },
  {
   "cell_type": "code",
   "execution_count": 42,
   "id": "b46675bf",
   "metadata": {},
   "outputs": [
    {
     "name": "stderr",
     "output_type": "stream",
     "text": [
      "C:\\Users\\MOHD SHOEB\\anaconda3\\lib\\site-packages\\sklearn\\base.py:450: UserWarning: X does not have valid feature names, but RandomForestClassifier was fitted with feature names\n",
      "  warnings.warn(\n",
      "C:\\Users\\MOHD SHOEB\\anaconda3\\lib\\site-packages\\sklearn\\preprocessing\\_label.py:115: DataConversionWarning: A column-vector y was passed when a 1d array was expected. Please change the shape of y to (n_samples, ), for example using ravel().\n",
      "  y = column_or_1d(y, warn=True)\n"
     ]
    },
    {
     "data": {
      "image/png": "[encoded data removed]",
      "text/plain": [
       "<Figure size 576x396 with 1 Axes>"
      ]
     },
     "metadata": {},
     "output_type": "display_data"
    },
    {
     "data": {
      "text/plain": [
       "<AxesSubplot:title={'center':'RandomForestClassifier Confusion Matrix'}, xlabel='Predicted Class', ylabel='True Class'>"
      ]
     },
     "execution_count": 42,
     "metadata": {},
     "output_type": "execute_result"
    }
   ],
   "source": [
    "#confusion_matrix\n",
    "cm= ConfusionMatrix(model,classes=classes)\n",
    "cm.fit(x_train,y_train)\n",
    "cm.score(x_test,y_test)\n",
    "cm.show()"
   ]
  },
  {
   "cell_type": "code",
   "execution_count": 43,
   "id": "f4fa1832",
   "metadata": {},
   "outputs": [
    {
     "name": "stderr",
     "output_type": "stream",
     "text": [
      "C:\\Users\\MOHD SHOEB\\anaconda3\\lib\\site-packages\\sklearn\\base.py:450: UserWarning: X does not have valid feature names, but RandomForestClassifier was fitted with feature names\n",
      "  warnings.warn(\n"
     ]
    },
    {
     "data": {
      "image/png": "[encoded data removed]",
      "text/plain": [
       "<Figure size 576x396 with 1 Axes>"
      ]
     },
     "metadata": {},
     "output_type": "display_data"
    },
    {
     "data": {
      "text/plain": [
       "<AxesSubplot:title={'center':'ROC Curves for RandomForestClassifier'}, xlabel='False Positive Rate', ylabel='True Positive Rate'>"
      ]
     },
     "execution_count": 43,
     "metadata": {},
     "output_type": "execute_result"
    }
   ],
   "source": [
    "#Roc and AUC \n",
    "rocauc=ROCAUC(model,classes=classes)\n",
    "rocauc.fit(x_train,y_train)\n",
    "rocauc.score(x_test,y_test)\n",
    "rocauc.show()"
   ]
  },
  {
   "cell_type": "code",
   "execution_count": 44,
   "id": "a1832d06",
   "metadata": {},
   "outputs": [
    {
     "name": "stderr",
     "output_type": "stream",
     "text": [
      "C:\\Users\\MOHD SHOEB\\anaconda3\\lib\\site-packages\\sklearn\\preprocessing\\_label.py:98: DataConversionWarning: A column-vector y was passed when a 1d array was expected. Please change the shape of y to (n_samples, ), for example using ravel().\n",
      "  y = column_or_1d(y, warn=True)\n",
      "C:\\Users\\MOHD SHOEB\\anaconda3\\lib\\site-packages\\sklearn\\preprocessing\\_label.py:133: DataConversionWarning: A column-vector y was passed when a 1d array was expected. Please change the shape of y to (n_samples, ), for example using ravel().\n",
      "  y = column_or_1d(y, warn=True)\n",
      "C:\\Users\\MOHD SHOEB\\anaconda3\\lib\\site-packages\\sklearn\\preprocessing\\_label.py:98: DataConversionWarning: A column-vector y was passed when a 1d array was expected. Please change the shape of y to (n_samples, ), for example using ravel().\n",
      "  y = column_or_1d(y, warn=True)\n",
      "C:\\Users\\MOHD SHOEB\\anaconda3\\lib\\site-packages\\sklearn\\preprocessing\\_label.py:133: DataConversionWarning: A column-vector y was passed when a 1d array was expected. Please change the shape of y to (n_samples, ), for example using ravel().\n",
      "  y = column_or_1d(y, warn=True)\n",
      "C:\\Users\\MOHD SHOEB\\anaconda3\\lib\\site-packages\\sklearn\\preprocessing\\_label.py:98: DataConversionWarning: A column-vector y was passed when a 1d array was expected. Please change the shape of y to (n_samples, ), for example using ravel().\n",
      "  y = column_or_1d(y, warn=True)\n",
      "C:\\Users\\MOHD SHOEB\\anaconda3\\lib\\site-packages\\sklearn\\preprocessing\\_label.py:133: DataConversionWarning: A column-vector y was passed when a 1d array was expected. Please change the shape of y to (n_samples, ), for example using ravel().\n",
      "  y = column_or_1d(y, warn=True)\n",
      "C:\\Users\\MOHD SHOEB\\anaconda3\\lib\\site-packages\\sklearn\\preprocessing\\_label.py:98: DataConversionWarning: A column-vector y was passed when a 1d array was expected. Please change the shape of y to (n_samples, ), for example using ravel().\n",
      "  y = column_or_1d(y, warn=True)\n",
      "C:\\Users\\MOHD SHOEB\\anaconda3\\lib\\site-packages\\sklearn\\preprocessing\\_label.py:133: DataConversionWarning: A column-vector y was passed when a 1d array was expected. Please change the shape of y to (n_samples, ), for example using ravel().\n",
      "  y = column_or_1d(y, warn=True)\n",
      "C:\\Users\\MOHD SHOEB\\anaconda3\\lib\\site-packages\\sklearn\\linear_model\\_logistic.py:814: ConvergenceWarning: lbfgs failed to converge (status=1):\n",
      "STOP: TOTAL NO. of ITERATIONS REACHED LIMIT.\n",
      "\n",
      "Increase the number of iterations (max_iter) or scale the data as shown in:\n",
      "    https://scikit-learn.org/stable/modules/preprocessing.html\n",
      "Please also refer to the documentation for alternative solver options:\n",
      "    https://scikit-learn.org/stable/modules/linear_model.html#logistic-regression\n",
      "  n_iter_i = _check_optimize_result(\n",
      "C:\\Users\\MOHD SHOEB\\anaconda3\\lib\\site-packages\\sklearn\\preprocessing\\_label.py:98: DataConversionWarning: A column-vector y was passed when a 1d array was expected. Please change the shape of y to (n_samples, ), for example using ravel().\n",
      "  y = column_or_1d(y, warn=True)\n",
      "C:\\Users\\MOHD SHOEB\\anaconda3\\lib\\site-packages\\sklearn\\preprocessing\\_label.py:133: DataConversionWarning: A column-vector y was passed when a 1d array was expected. Please change the shape of y to (n_samples, ), for example using ravel().\n",
      "  y = column_or_1d(y, warn=True)\n",
      "C:\\Users\\MOHD SHOEB\\anaconda3\\lib\\site-packages\\sklearn\\preprocessing\\_label.py:98: DataConversionWarning: A column-vector y was passed when a 1d array was expected. Please change the shape of y to (n_samples, ), for example using ravel().\n",
      "  y = column_or_1d(y, warn=True)\n",
      "C:\\Users\\MOHD SHOEB\\anaconda3\\lib\\site-packages\\sklearn\\preprocessing\\_label.py:133: DataConversionWarning: A column-vector y was passed when a 1d array was expected. Please change the shape of y to (n_samples, ), for example using ravel().\n",
      "  y = column_or_1d(y, warn=True)\n",
      "C:\\Users\\MOHD SHOEB\\anaconda3\\lib\\site-packages\\sklearn\\linear_model\\_logistic.py:814: ConvergenceWarning: lbfgs failed to converge (status=1):\n",
      "STOP: TOTAL NO. of ITERATIONS REACHED LIMIT.\n",
      "\n",
      "Increase the number of iterations (max_iter) or scale the data as shown in:\n",
      "    https://scikit-learn.org/stable/modules/preprocessing.html\n",
      "Please also refer to the documentation for alternative solver options:\n",
      "    https://scikit-learn.org/stable/modules/linear_model.html#logistic-regression\n",
      "  n_iter_i = _check_optimize_result(\n",
      "C:\\Users\\MOHD SHOEB\\anaconda3\\lib\\site-packages\\sklearn\\preprocessing\\_label.py:98: DataConversionWarning: A column-vector y was passed when a 1d array was expected. Please change the shape of y to (n_samples, ), for example using ravel().\n",
      "  y = column_or_1d(y, warn=True)\n",
      "C:\\Users\\MOHD SHOEB\\anaconda3\\lib\\site-packages\\sklearn\\preprocessing\\_label.py:133: DataConversionWarning: A column-vector y was passed when a 1d array was expected. Please change the shape of y to (n_samples, ), for example using ravel().\n",
      "  y = column_or_1d(y, warn=True)\n",
      "C:\\Users\\MOHD SHOEB\\anaconda3\\lib\\site-packages\\sklearn\\preprocessing\\_label.py:98: DataConversionWarning: A column-vector y was passed when a 1d array was expected. Please change the shape of y to (n_samples, ), for example using ravel().\n",
      "  y = column_or_1d(y, warn=True)\n",
      "C:\\Users\\MOHD SHOEB\\anaconda3\\lib\\site-packages\\sklearn\\preprocessing\\_label.py:133: DataConversionWarning: A column-vector y was passed when a 1d array was expected. Please change the shape of y to (n_samples, ), for example using ravel().\n",
      "  y = column_or_1d(y, warn=True)\n",
      "C:\\Users\\MOHD SHOEB\\anaconda3\\lib\\site-packages\\sklearn\\preprocessing\\_label.py:98: DataConversionWarning: A column-vector y was passed when a 1d array was expected. Please change the shape of y to (n_samples, ), for example using ravel().\n",
      "  y = column_or_1d(y, warn=True)\n",
      "C:\\Users\\MOHD SHOEB\\anaconda3\\lib\\site-packages\\sklearn\\preprocessing\\_label.py:133: DataConversionWarning: A column-vector y was passed when a 1d array was expected. Please change the shape of y to (n_samples, ), for example using ravel().\n",
      "  y = column_or_1d(y, warn=True)\n"
     ]
    },
    {
     "name": "stdout",
     "output_type": "stream",
     "text": [
      "Accuracy= 0.795\n"
     ]
    },
    {
     "name": "stderr",
     "output_type": "stream",
     "text": [
      "C:\\Users\\MOHD SHOEB\\anaconda3\\lib\\site-packages\\sklearn\\preprocessing\\_label.py:98: DataConversionWarning: A column-vector y was passed when a 1d array was expected. Please change the shape of y to (n_samples, ), for example using ravel().\n",
      "  y = column_or_1d(y, warn=True)\n",
      "C:\\Users\\MOHD SHOEB\\anaconda3\\lib\\site-packages\\sklearn\\preprocessing\\_label.py:133: DataConversionWarning: A column-vector y was passed when a 1d array was expected. Please change the shape of y to (n_samples, ), for example using ravel().\n",
      "  y = column_or_1d(y, warn=True)\n"
     ]
    }
   ],
   "source": [
    "# Stacking Ensemble for Classification\n",
    "from sklearn.linear_model import LogisticRegression\n",
    "from sklearn.tree import DecisionTreeClassifier\n",
    "from sklearn.svm import SVC\n",
    "from sklearn.ensemble import VotingClassifier\n",
    "\n",
    "kfold = KFold(n_splits=10, random_state=None)\n",
    "\n",
    "# create the sub models\n",
    "estimators = []\n",
    "model1 = LogisticRegression(max_iter=700)\n",
    "estimators.append(('logistic', model1))\n",
    "model2 = DecisionTreeClassifier()\n",
    "estimators.append(('cart', model2))\n",
    "model3 = SVC()\n",
    "estimators.append(('svm', model3))\n",
    "\n",
    "# create the ensemble model\n",
    "ensemble = VotingClassifier(estimators)\n",
    "results = cross_val_score(ensemble, X, Y, cv=kfold)\n",
    "print(\"Accuracy=\",results.mean())"
   ]
  },
  {
   "cell_type": "markdown",
   "id": "9441e3a6",
   "metadata": {},
   "source": [
    "Y=Y.astype(np.int_)\n",
    "from mlxtend.plotting import plot_decision_regions\n",
    "fig=plot_decision_regions(X.values,Y.values,clf=ensemble,legend=2)\n",
    "plt.show()"
   ]
  },
  {
   "cell_type": "markdown",
   "id": "6cc588e4",
   "metadata": {},
   "source": [
    "# Let's explore whether other algorithms can provide us with the best accuracy on this dataset."
   ]
  },
  {
   "cell_type": "code",
   "execution_count": 45,
   "id": "6e0507e4",
   "metadata": {},
   "outputs": [
    {
     "name": "stderr",
     "output_type": "stream",
     "text": [
      " 31%|███       | 9/29 [00:00<00:00, 28.47it/s]"
     ]
    },
    {
     "name": "stdout",
     "output_type": "stream",
     "text": [
      "CategoricalNB model failed to execute\n",
      "Negative values in data passed to CategoricalNB (input X)\n"
     ]
    },
    {
     "name": "stderr",
     "output_type": "stream",
     "text": [
      " 97%|█████████▋| 28/29 [00:00<00:00, 27.82it/s]"
     ]
    },
    {
     "name": "stdout",
     "output_type": "stream",
     "text": [
      "StackingClassifier model failed to execute\n",
      "__init__() missing 1 required positional argument: 'estimators'\n"
     ]
    },
    {
     "name": "stderr",
     "output_type": "stream",
     "text": [
      "\r",
      "100%|██████████| 29/29 [00:01<00:00, 24.50it/s]"
     ]
    },
    {
     "name": "stdout",
     "output_type": "stream",
     "text": [
      "                               Accuracy  Balanced Accuracy  ROC AUC  F1 Score  \\\n",
      "Model                                                                           \n",
      "LogisticRegression                 0.85               0.85     0.85      0.85   \n",
      "AdaBoostClassifier                 0.84               0.84     0.84      0.84   \n",
      "CalibratedClassifierCV             0.84               0.84     0.84      0.84   \n",
      "LinearSVC                          0.84               0.84     0.84      0.84   \n",
      "RidgeClassifierCV                  0.84               0.84     0.84      0.84   \n",
      "RidgeClassifier                    0.84               0.84     0.84      0.84   \n",
      "LinearDiscriminantAnalysis         0.84               0.84     0.84      0.84   \n",
      "QuadraticDiscriminantAnalysis      0.82               0.82     0.82      0.82   \n",
      "GaussianNB                         0.82               0.82     0.82      0.82   \n",
      "Perceptron                         0.82               0.82     0.82      0.82   \n",
      "SVC                                0.81               0.81     0.81      0.81   \n",
      "LGBMClassifier                     0.80               0.80     0.80      0.80   \n",
      "NuSVC                              0.79               0.79     0.79      0.79   \n",
      "NearestCentroid                    0.77               0.77     0.77      0.77   \n",
      "RandomForestClassifier             0.76               0.76     0.76      0.76   \n",
      "XGBClassifier                      0.76               0.76     0.76      0.76   \n",
      "ExtraTreesClassifier               0.75               0.75     0.75      0.75   \n",
      "KNeighborsClassifier               0.72               0.72     0.72      0.72   \n",
      "SGDClassifier                      0.72               0.72     0.72      0.72   \n",
      "DecisionTreeClassifier             0.71               0.71     0.71      0.71   \n",
      "BernoulliNB                        0.70               0.70     0.70      0.70   \n",
      "BaggingClassifier                  0.70               0.70     0.70      0.70   \n",
      "LabelSpreading                     0.69               0.69     0.69      0.69   \n",
      "LabelPropagation                   0.69               0.69     0.69      0.69   \n",
      "PassiveAggressiveClassifier        0.68               0.68     0.68      0.67   \n",
      "ExtraTreeClassifier                0.58               0.58     0.58      0.58   \n",
      "DummyClassifier                    0.51               0.50     0.50      0.34   \n",
      "\n",
      "                               Time Taken  \n",
      "Model                                      \n",
      "LogisticRegression                   0.03  \n",
      "AdaBoostClassifier                   0.09  \n",
      "CalibratedClassifierCV               0.03  \n",
      "LinearSVC                            0.01  \n",
      "RidgeClassifierCV                    0.03  \n",
      "RidgeClassifier                      0.01  \n",
      "LinearDiscriminantAnalysis           0.04  \n",
      "QuadraticDiscriminantAnalysis        0.02  \n",
      "GaussianNB                           0.02  \n",
      "Perceptron                           0.01  \n",
      "SVC                                  0.00  \n",
      "LGBMClassifier                       0.23  \n",
      "NuSVC                                0.03  \n",
      "NearestCentroid                      0.00  \n",
      "RandomForestClassifier               0.18  \n",
      "XGBClassifier                        0.14  \n",
      "ExtraTreesClassifier                 0.14  \n",
      "KNeighborsClassifier                 0.03  \n",
      "SGDClassifier                        0.02  \n",
      "DecisionTreeClassifier               0.00  \n",
      "BernoulliNB                          0.02  \n",
      "BaggingClassifier                    0.01  \n",
      "LabelSpreading                       0.02  \n",
      "LabelPropagation                     0.03  \n",
      "PassiveAggressiveClassifier          0.03  \n",
      "ExtraTreeClassifier                  0.02  \n",
      "DummyClassifier                      0.00  \n"
     ]
    },
    {
     "name": "stderr",
     "output_type": "stream",
     "text": [
      "\n"
     ]
    }
   ],
   "source": [
    "from lazypredict.Supervised import LazyClassifier\n",
    "d=LazyClassifier(verbose=0,ignore_warnings=False,custom_metric=None)\n",
    "models,predictions=d.fit(x_train,x_test,y_train,y_test)\n",
    "print(models)\n"
   ]
  },
  {
   "cell_type": "code",
   "execution_count": null,
   "id": "d575f992",
   "metadata": {},
   "outputs": [],
   "source": []
  }
 ],
 "metadata": {
  "kernelspec": {
   "display_name": "Python 3 (ipykernel)",
   "language": "python",
   "name": "python3"
  },
  "language_info": {
   "codemirror_mode": {
    "name": "ipython",
    "version": 3
   },
   "file_extension": ".py",
   "mimetype": "text/x-python",
   "name": "python",
   "nbconvert_exporter": "python",
   "pygments_lexer": "ipython3",
   "version": "3.9.12"
  },
  "vscode": {
   "interpreter": {
    "hash": "978d9105b068cbc356370494e3cb52e52fa7590bb9da26e4b7328c8ae4e62003"
   }
  }
 },
 "nbformat": 4,
 "nbformat_minor": 5
}
